{
  "nbformat": 4,
  "nbformat_minor": 0,
  "metadata": {
    "colab": {
      "provenance": []
    },
    "kernelspec": {
      "name": "python3",
      "display_name": "Python 3"
    },
    "language_info": {
      "name": "python"
    }
  },
  "cells": [
    {
      "cell_type": "code",
      "source": [
        "from google.colab import drive\n",
        "import pandas as pd\n",
        "import numpy as np\n",
        "from sklearn.model_selection import train_test_split\n",
        "from sklearn.ensemble import RandomForestClassifier\n",
        "from sklearn.metrics import roc_auc_score\n",
        "from sklearn.neighbors import KNeighborsRegressor\n",
        "from sklearn.tree import DecisionTreeClassifier\n",
        "from sklearn.model_selection import cross_val_score"
      ],
      "metadata": {
        "id": "-VVyADVC2bjC"
      },
      "execution_count": null,
      "outputs": []
    },
    {
      "cell_type": "code",
      "execution_count": null,
      "metadata": {
        "colab": {
          "base_uri": "https://localhost:8080/"
        },
        "id": "7o50Vhnwk8zy",
        "outputId": "fc8e6efe-2c9b-4373-fdf1-00ef2cff5b56"
      },
      "outputs": [
        {
          "output_type": "stream",
          "name": "stdout",
          "text": [
            "Drive already mounted at /content/drive; to attempt to forcibly remount, call drive.mount(\"/content/drive\", force_remount=True).\n"
          ]
        }
      ],
      "source": [
        "drive.mount('/content/drive')\n",
        "filename_train = '/content/drive/My Drive/LaboDatos2022/SegundaEjercitacion/train.csv'\n",
        "filename_test = '/content/drive/My Drive/LaboDatos2022/SegundaEjercitacion/test4alumnxs.csv'\n",
        "\n",
        "df_train = pd.read_csv(filename_train)\n",
        "df_test = pd.read_csv(filename_test)"
      ]
    },
    {
      "cell_type": "code",
      "source": [
        "def arreglar_dia(x):\n",
        "  if x == 'Day':\n",
        "    return '1'\n",
        "  else:\n",
        "    return '0'\n",
        "\n",
        "def arreglar_descripcion(x):\n",
        "  x=x.lower()\n",
        "  if 'closed' in x:\n",
        "    return '1'\n",
        "  else:\n",
        "    return '0'\n"
      ],
      "metadata": {
        "id": "nDOyqNHHFYg6"
      },
      "execution_count": null,
      "outputs": []
    },
    {
      "cell_type": "code",
      "source": [],
      "metadata": {
        "id": "sa9Orr_nIwim"
      },
      "execution_count": null,
      "outputs": []
    },
    {
      "cell_type": "code",
      "source": [
        "y = np.array(df_train['Severity'])\n",
        "\n",
        "columnas_clima = ['Temperature(F)', 'Wind_Chill(F)', 'Humidity(%)', 'Pressure(in)','Visibility(mi)',  'Wind_Speed(mph)','Precipitation(in)']\n",
        "\n",
        "columnas_lugar = ['Amenity','Bump','Crossing','Give_Way','Junction','No_Exit','Railway','Roundabout','Station','Stop', 'Traffic_Calming','Traffic_Signal','Turning_Loop']\n",
        "\n",
        "columnas_dia = ['Sunrise_Sunset','Civil_Twilight','Nautical_Twilight','Astronomical_Twilight']\n",
        "\n",
        "columnas_descripcion = ['Description']\n",
        "\n",
        "\n",
        "columnas_varias = columnas_dia + columnas_clima + columnas_lugar\n",
        "\n"
      ],
      "metadata": {
        "id": "7DvN9tw23wbc"
      },
      "execution_count": null,
      "outputs": []
    },
    {
      "cell_type": "code",
      "source": [
        "print(columnas_varias)"
      ],
      "metadata": {
        "colab": {
          "base_uri": "https://localhost:8080/"
        },
        "id": "9r7rTuw4YDHw",
        "outputId": "8760977c-a294-45a9-a306-38079c1dbeb6"
      },
      "execution_count": null,
      "outputs": [
        {
          "output_type": "stream",
          "name": "stdout",
          "text": [
            "['Sunrise_Sunset', 'Civil_Twilight', 'Nautical_Twilight', 'Astronomical_Twilight', 'Temperature(F)', 'Wind_Chill(F)', 'Humidity(%)', 'Pressure(in)', 'Visibility(mi)', 'Wind_Speed(mph)', 'Precipitation(in)']\n"
          ]
        }
      ]
    },
    {
      "cell_type": "code",
      "source": [
        "print(df_train['Sunrise_Sunset'][0])\n",
        "print(df_train[columnas_lugar])"
      ],
      "metadata": {
        "colab": {
          "base_uri": "https://localhost:8080/"
        },
        "id": "B1ZB5ct4KfGQ",
        "outputId": "bbe80e5e-2aec-4e34-92f1-de5f8affe283"
      },
      "execution_count": null,
      "outputs": [
        {
          "output_type": "stream",
          "name": "stdout",
          "text": [
            "0\n",
            "      Sunrise_Sunset Civil_Twilight Nautical_Twilight Astronomical_Twilight\n",
            "0                  0              0                 0                     0\n",
            "1                  0              0                 0                     0\n",
            "2                  0              0                 0                     0\n",
            "3                  1              1                 1                     1\n",
            "4                  1              1                 1                     1\n",
            "...              ...            ...               ...                   ...\n",
            "45829              1              1                 1                     1\n",
            "45830              0              0                 0                     0\n",
            "45831              0              0                 0                     0\n",
            "45832              1              1                 1                     1\n",
            "45833              0              1                 1                     1\n",
            "\n",
            "[45834 rows x 4 columns]\n"
          ]
        }
      ]
    },
    {
      "cell_type": "code",
      "source": [
        "#df_train['Sunrise_Sunset'].unique()\n",
        "#df_train[columnas_dia]=df_train[columnas_dia].apply(arreglar_dia)\n",
        "df_train['Sunrise_Sunset'] = df_train['Sunrise_Sunset'].apply(arreglar_dia)\n",
        "df_train['Civil_Twilight'] = df_train['Civil_Twilight'].apply(arreglar_dia)\n",
        "df_train['Nautical_Twilight'] = df_train['Nautical_Twilight'].apply(arreglar_dia)\n",
        "df_train['Astronomical_Twilight'] = df_train['Astronomical_Twilight'].apply(arreglar_dia)"
      ],
      "metadata": {
        "id": "CxqyTx6wI0YN"
      },
      "execution_count": null,
      "outputs": []
    },
    {
      "cell_type": "code",
      "source": [
        "print(df_train[columnas_descripcion])\n",
        "df_train['Description']=df_train['Description'].apply(arreglar_descripcion)\n",
        "print(df_train[columnas_descripcion])"
      ],
      "metadata": {
        "colab": {
          "base_uri": "https://localhost:8080/"
        },
        "id": "LIjW-qyGq_FH",
        "outputId": "57023acb-6aae-46a5-e9a1-8b65e64d2c4c"
      },
      "execution_count": null,
      "outputs": [
        {
          "output_type": "stream",
          "name": "stdout",
          "text": [
            "                                             Description\n",
            "0      Stationary traffic on US-70 W from Lynn Rd (US...\n",
            "1      52500 LONOAK RD. CA TOW ADVISED ETA 30MIN DRIV...\n",
            "2      Incident on HOLLYWOOD ST near WINCHESTER AVE D...\n",
            "3      Stationary traffic on FL-45 - County Hwy-876 -...\n",
            "4      Incident on US-10 EB near MN-301 Drive with ca...\n",
            "...                                                  ...\n",
            "45829  Closed at Sierra Way - Road closed due to acci...\n",
            "45830   Closed at Main St - Road closed due to accident.\n",
            "45831  Incident on PA-68 EB near STONEY LONESOME RD R...\n",
            "45832  Closed at Roosevelt Blvd - Road closed due to ...\n",
            "45833  Incident on US-30 WB near LC HEMPFIELD PT Road...\n",
            "\n",
            "[45834 rows x 1 columns]\n",
            "      Description\n",
            "0               0\n",
            "1               0\n",
            "2               0\n",
            "3               0\n",
            "4               0\n",
            "...           ...\n",
            "45829           1\n",
            "45830           1\n",
            "45831           1\n",
            "45832           1\n",
            "45833           1\n",
            "\n",
            "[45834 rows x 1 columns]\n"
          ]
        }
      ]
    },
    {
      "cell_type": "code",
      "source": [
        "#df_train[columnas_dia] = df_train[columnas_dia].apply(arreglar_dia).astype(float)\n",
        "\"\"\"\n",
        "df_train['Sunrise_Sunset'] = df_train['Sunrise_Sunset'].apply(arreglar_dia)\n",
        "df_train['Civil_Twilight'] = df_train['Civil_Twilight'].apply(arreglar_dia)\n",
        "df_train['Nautical_Twilight'] = df_train['Nautical_Twilight'].apply(arreglar_dia)\n",
        "df_train['Astronomical_Twilight'] = df_train['Astronomical_Twilight'].apply(arreglar_dia)\n",
        "\"\"\"\n",
        "#print(df_train['Sunrise_Sunset'])\n",
        "\n",
        "X = np.array(df_train[columnas_descripcion])\n",
        "\n",
        "X_train, X_test, y_train, y_test = train_test_split(X, y, test_size=0.3, random_state=10)"
      ],
      "metadata": {
        "id": "yrYE8ji8IyIl"
      },
      "execution_count": null,
      "outputs": []
    },
    {
      "cell_type": "code",
      "source": [
        "print(df_test[columnas_lugar])"
      ],
      "metadata": {
        "colab": {
          "base_uri": "https://localhost:8080/"
        },
        "id": "znwi4HdhZArw",
        "outputId": "ed9651fb-2fdf-40f0-a124-ab76cbac7e74"
      },
      "execution_count": null,
      "outputs": [
        {
          "output_type": "stream",
          "name": "stdout",
          "text": [
            "       Amenity   Bump  Crossing  Give_Way  Junction  No_Exit  Railway  \\\n",
            "0        False  False     False     False     False    False    False   \n",
            "1        False  False     False     False     False    False    False   \n",
            "2        False  False     False     False     False    False    False   \n",
            "3        False  False     False     False     False    False    False   \n",
            "4        False  False     False     False     False    False    False   \n",
            "...        ...    ...       ...       ...       ...      ...      ...   \n",
            "11367    False  False     False     False     False    False    False   \n",
            "11368    False  False      True     False     False    False    False   \n",
            "11369    False  False     False     False     False    False    False   \n",
            "11370    False  False     False     False     False    False    False   \n",
            "11371    False  False     False     False     False    False    False   \n",
            "\n",
            "       Roundabout  Station   Stop  Traffic_Calming  Traffic_Signal  \\\n",
            "0           False    False  False            False           False   \n",
            "1           False    False  False            False           False   \n",
            "2           False    False  False            False           False   \n",
            "3           False    False  False            False           False   \n",
            "4           False     True  False            False           False   \n",
            "...           ...      ...    ...              ...             ...   \n",
            "11367       False    False  False            False           False   \n",
            "11368       False    False  False            False            True   \n",
            "11369       False    False  False            False           False   \n",
            "11370       False    False  False            False           False   \n",
            "11371       False    False  False            False           False   \n",
            "\n",
            "       Turning_Loop  \n",
            "0             False  \n",
            "1             False  \n",
            "2             False  \n",
            "3             False  \n",
            "4             False  \n",
            "...             ...  \n",
            "11367         False  \n",
            "11368         False  \n",
            "11369         False  \n",
            "11370         False  \n",
            "11371         False  \n",
            "\n",
            "[11372 rows x 13 columns]\n"
          ]
        }
      ]
    },
    {
      "cell_type": "code",
      "source": [
        "\"\"\"\n",
        "# Tomamos un valor de alpha entre 10^-10 y 1. Usamos un barrido logaritmico.\n",
        "for alpha in np.logspace(-10, 0, 11):\n",
        "\n",
        "    # Creamos el modelo para un dado valor de alpha\n",
        "    dtr = RandomForestClassifier(ccp_alpha = alpha)\n",
        "\n",
        "    # Calculamos los scores al hacer cross-validation con 5 folds\n",
        "    # Al especificar el valor de cv, cross_val_score hace cross-validation estratificado\n",
        "    scores = cross_val_score(dtr, X_train, y_train, cv = 5)\n",
        "\n",
        "    # Imprimimos el valor de alpha y el score medio\n",
        "    print('Valor de alpha {} - Score medio = {}'.format(alpha, scores.mean()))\n",
        "    \"\"\""
      ],
      "metadata": {
        "colab": {
          "base_uri": "https://localhost:8080/"
        },
        "id": "aU8QKQLX4Rrk",
        "outputId": "f62e5dba-bc30-452a-f7c1-549a12b4f4f1"
      },
      "execution_count": null,
      "outputs": [
        {
          "output_type": "stream",
          "name": "stdout",
          "text": [
            "Valor de alpha 1e-10 - Score medio = 0.686625355537446\n",
            "Valor de alpha 1e-09 - Score medio = 0.6867188231695966\n",
            "Valor de alpha 1e-08 - Score medio = 0.6848175260772799\n",
            "Valor de alpha 1e-07 - Score medio = 0.6865629773936671\n",
            "Valor de alpha 1e-06 - Score medio = 0.6881526606578457\n",
            "Valor de alpha 1e-05 - Score medio = 0.6854096691029167\n",
            "Valor de alpha 0.0001 - Score medio = 0.680952582895263\n",
            "Valor de alpha 0.001 - Score medio = 0.6411806699551572\n",
            "Valor de alpha 0.01 - Score medio = 0.6107595958677406\n",
            "Valor de alpha 0.1 - Score medio = 0.6107595958677406\n",
            "Valor de alpha 1.0 - Score medio = 0.6107595958677406\n"
          ]
        }
      ]
    },
    {
      "cell_type": "code",
      "source": [
        "df_graves = df_train[df_train.Severity==1]\n",
        "df_leves = df_train[df_train.Severity==0]\n",
        "print(df_graves['Description'].to_numpy())"
      ],
      "metadata": {
        "colab": {
          "base_uri": "https://localhost:8080/"
        },
        "id": "PP2yVLTxbP-t",
        "outputId": "48523a99-478a-4ac2-a65b-1eca3287dd89"
      },
      "execution_count": null,
      "outputs": [
        {
          "output_type": "stream",
          "name": "stdout",
          "text": [
            "['Incident on US-218 NB near COUNTY HWY-J56 Road closed. Take alternate route.'\n",
            " 'Closed road from Leonard St NW (Alpine Ave NW) to Pannell Ave NW (Alpine Ave NW) due to accident.'\n",
            " 'Closed at Dooling - Road closed due to accident.' ...\n",
            " 'Incident on PA-68 EB near STONEY LONESOME RD Road closed. Take alternate route.'\n",
            " 'Closed at Roosevelt Blvd - Road closed due to accident.'\n",
            " 'Incident on US-30 WB near LC HEMPFIELD PT Road closed. Take alternate route.']\n"
          ]
        }
      ]
    },
    {
      "cell_type": "code",
      "source": [
        "clf = RandomForestClassifier()\n",
        "\n",
        "\n",
        "clf.fit(X_train, y_train)\n",
        "\n",
        "\n",
        "y_hat_test = clf.predict_proba(X_test)[:, 1]\n",
        "y_hat_train = clf.predict_proba(X_train)[:, 1]\n",
        "\n",
        "roc_test = roc_auc_score(y_test, y_hat_test)\n",
        "roc_train = roc_auc_score(y_train, y_hat_train)\n",
        "\n",
        "roc_test, roc_train\n",
        "print(roc_test)\n",
        "print(roc_train)\n",
        "\n",
        "# knn\n",
        "\"\"\"\n",
        "knn = KNeighborsRegressor()\n",
        "knn.fit(X_train, y_train)\n",
        "y_test_knn = knn.predict(X_test)\n",
        "y_train_knn = knn.predict(X_train)\n",
        "\n",
        "roc_test = roc_auc_score(y_test, y_test_knn)\n",
        "roc_train = roc_auc_score(y_train, y_train_knn)\n",
        "roc_test, roc_train\n",
        "\"\"\""
      ],
      "metadata": {
        "colab": {
          "base_uri": "https://localhost:8080/",
          "height": 90
        },
        "id": "T1IjGuyRsQJI",
        "outputId": "3fb45d29-6201-40fd-a2fe-8353b1dc1481"
      },
      "execution_count": null,
      "outputs": [
        {
          "output_type": "stream",
          "name": "stdout",
          "text": [
            "0.9632029924689927\n",
            "0.9598512065841949\n"
          ]
        },
        {
          "output_type": "execute_result",
          "data": {
            "text/plain": [
              "'\\nknn = KNeighborsRegressor()\\nknn.fit(X_train, y_train)\\ny_test_knn = knn.predict(X_test)\\ny_train_knn = knn.predict(X_train)\\n\\nroc_test = roc_auc_score(y_test, y_test_knn)\\nroc_train = roc_auc_score(y_train, y_train_knn)\\nroc_test, roc_train\\n'"
            ],
            "application/vnd.google.colaboratory.intrinsic+json": {
              "type": "string"
            }
          },
          "metadata": {},
          "execution_count": 213
        }
      ]
    },
    {
      "cell_type": "code",
      "source": [
        "X = np.array(df_test[columnas_clima])\n",
        "\n",
        "predicciones = clf.predict_proba(X_test)[:, 1]\n",
        "\n",
        "print(predicciones)\n",
        "\n",
        "\n",
        "np.savetxt('predicciones.csv', predicciones, delimiter=\",\")"
      ],
      "metadata": {
        "colab": {
          "base_uri": "https://localhost:8080/"
        },
        "id": "Oa8kF4kgsU-h",
        "outputId": "85e6f068-8cfc-4916-f92b-c90cfc4c6b4f"
      },
      "execution_count": null,
      "outputs": [
        {
          "output_type": "stream",
          "name": "stdout",
          "text": [
            "[0.73  0.44  0.332 ... 0.425 0.49  0.25 ]\n"
          ]
        }
      ]
    },
    {
      "cell_type": "code",
      "source": [
        "#np.savetxt('descripciones.csv', df_graves['Description'].to_numpy(), delimiter=',')\n",
        "df_graves['Description'].to_excel('graves.xlsx')\n",
        "df_leves['Description'].to_excel('leves.xlsx')"
      ],
      "metadata": {
        "id": "kS_XGoCzcT0m"
      },
      "execution_count": null,
      "outputs": []
    },
    {
      "cell_type": "markdown",
      "source": [
        "Mejoras:\n",
        "\n",
        "\n",
        "*   n_estimators = 1000\n",
        "*   mas features\n",
        "\n",
        "\n",
        "*   closed\n",
        "*   Elemento de la lista\n",
        "\n",
        "\n",
        "\n"
      ],
      "metadata": {
        "id": "OQAr86Xa8-MR"
      }
    },
    {
      "cell_type": "code",
      "source": [],
      "metadata": {
        "id": "ZBBpkbXvsbB7"
      },
      "execution_count": null,
      "outputs": []
    }
  ]
}